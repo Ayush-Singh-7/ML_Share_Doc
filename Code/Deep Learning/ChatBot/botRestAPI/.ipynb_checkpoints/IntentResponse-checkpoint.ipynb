{
 "cells": [
  {
   "cell_type": "code",
   "execution_count": 51,
   "metadata": {},
   "outputs": [],
   "source": [
    "# import our chat-bot intents file\n",
    "import json\n",
    "#with open('intents.json') as json_data:\n",
    "#    intents = json.load(json_data)"
   ]
  },
  {
   "cell_type": "code",
   "execution_count": 52,
   "metadata": {},
   "outputs": [],
   "source": [
    "from flask import Flask,jsonify\n",
    "from flask import make_response\n",
    "from flask import abort\n",
    "\n",
    "app = Flask(__name__)"
   ]
  },
  {
   "cell_type": "code",
   "execution_count": 53,
   "metadata": {},
   "outputs": [],
   "source": [
    "@app.route('/api/intent/all/', methods=['GET'])\n",
    "def  getIntentResponse():\n",
    "    # Read all intent and return\n",
    "    with open('intents.json') as json_data:\n",
    "        intents = json.load(json_data)\n",
    "    \n",
    "    return jsonify({'all_intents':intents})"
   ]
  },
  {
   "cell_type": "code",
   "execution_count": 54,
   "metadata": {},
   "outputs": [],
   "source": [
    "@app.route('/api/intent/response/<intent_id>', methods=['GET'])\n",
    "def  getTagResponse(intent_id):\n",
    "    \n",
    "    # Read all intent and return\n",
    "    with open('intents.json') as json_data:\n",
    "        intents = json.load(json_data)\n",
    "    \n",
    "    # variable that will hold the response\n",
    "    resp = ''\n",
    "    \n",
    "    # Loop over all intent and find the tag\n",
    "    for intent in intents['intents']:\n",
    "        for intent_tag in intent['tag']:\n",
    "            if intent_tag == intent_id:\n",
    "                resp = intent['responses']\n",
    "    \n",
    "    # If not intent found throw error\n",
    "    if len(resp) == 0:\n",
    "        abort(404)\n",
    "        \n",
    "    return jsonify({'response':resp})"
   ]
  },
  {
   "cell_type": "code",
   "execution_count": 55,
   "metadata": {},
   "outputs": [],
   "source": [
    "@app.errorhandler(404)\n",
    "def not_found(error):\n",
    "    return make_response(jsonify({'error': 'Not found'}), 404)"
   ]
  },
  {
   "cell_type": "code",
   "execution_count": 56,
   "metadata": {},
   "outputs": [
    {
     "name": "stdout",
     "output_type": "stream",
     "text": [
      " * Serving Flask app \"__main__\" (lazy loading)\n",
      " * Environment: production\n",
      "   WARNING: This is a development server. Do not use it in a production deployment.\n",
      "   Use a production WSGI server instead.\n",
      " * Debug mode: off\n"
     ]
    },
    {
     "name": "stderr",
     "output_type": "stream",
     "text": [
      " * Running on http://127.0.0.1:21021/ (Press CTRL+C to quit)\n",
      "127.0.0.1 - - [16/Jun/2019 12:00:00] \"\u001b[37mGET /api/intent/response/noanswer HTTP/1.1\u001b[0m\" 200 -\n",
      "127.0.0.1 - - [16/Jun/2019 12:00:03] \"\u001b[33mGET /api/intent/response/noanswera HTTP/1.1\u001b[0m\" 404 -\n",
      "127.0.0.1 - - [16/Jun/2019 12:00:03] \"\u001b[33mGET /favicon.ico HTTP/1.1\u001b[0m\" 404 -\n"
     ]
    }
   ],
   "source": [
    "# Run the application\n",
    "if __name__ == '__main__':\n",
    "    app.run(host='127.0.0.1', port=21021)"
   ]
  },
  {
   "cell_type": "raw",
   "metadata": {},
   "source": [
    "\n",
    "intent_id = 'noanswer'\n",
    "resp = ''\n",
    "\n",
    "with open('intents.json') as json_data:\n",
    "    intents = json.load(json_data)\n",
    "    \n",
    "for intent in intents['intents']:\n",
    "    for intent_tag in intent['tag']:\n",
    "        print((intent_tag) )\n",
    "        if intent_tag == intent_id:\n",
    "            resp = intent['responses']\n",
    "            \n",
    "print(resp)\n",
    "\n"
   ]
  },
  {
   "cell_type": "code",
   "execution_count": 57,
   "metadata": {},
   "outputs": [],
   "source": [
    "import pickle"
   ]
  },
  {
   "cell_type": "code",
   "execution_count": null,
   "metadata": {},
   "outputs": [],
   "source": []
  }
 ],
 "metadata": {
  "kernelspec": {
   "display_name": "Python 3",
   "language": "python",
   "name": "python3"
  },
  "language_info": {
   "codemirror_mode": {
    "name": "ipython",
    "version": 3
   },
   "file_extension": ".py",
   "mimetype": "text/x-python",
   "name": "python",
   "nbconvert_exporter": "python",
   "pygments_lexer": "ipython3",
   "version": "3.6.8"
  }
 },
 "nbformat": 4,
 "nbformat_minor": 2
}
